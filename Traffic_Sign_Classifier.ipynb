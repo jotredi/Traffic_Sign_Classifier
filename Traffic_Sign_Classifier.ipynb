{
 "cells": [
  {
   "cell_type": "markdown",
   "metadata": {
    "colab_type": "text",
    "id": "AV32CZ2-mtHQ"
   },
   "source": [
    "# Self-Driving Car Engineer Nanodegree\n",
    "\n",
    "## Deep Learning\n",
    "\n",
    "## Project: Build a Traffic Sign Recognition Classifier\n",
    "\n",
    "In this notebook, a template is provided for you to implement your functionality in stages, which is required to successfully complete this project. If additional code is required that cannot be included in the notebook, be sure that the Python code is successfully imported and included in your submission if necessary. \n",
    "\n",
    "> **Note**: Once you have completed all of the code implementations, you need to finalize your work by exporting the iPython Notebook as an HTML document. Before exporting the notebook to html, all of the code cells need to have been run so that reviewers can see the final implementation and output. You can then export the notebook by using the menu above and navigating to  \\n\",\n",
    "    \"**File -> Download as -> HTML (.html)**. Include the finished document along with this notebook as your submission. \n",
    "\n",
    "In addition to implementing code, there is a writeup to complete. The writeup should be completed in a separate file, which can be either a markdown file or a pdf document. There is a [write up template](https://github.com/udacity/CarND-Traffic-Sign-Classifier-Project/blob/master/writeup_template.md) that can be used to guide the writing process. Completing the code template and writeup template will cover all of the [rubric points](https://review.udacity.com/#!/rubrics/481/view) for this project.\n",
    "\n",
    "The [rubric](https://review.udacity.com/#!/rubrics/481/view) contains \"Stand Out Suggestions\" for enhancing the project beyond the minimum requirements. The stand out suggestions are optional. If you decide to pursue the \"stand out suggestions\", you can include the code in this Ipython notebook and also discuss the results in the writeup file.\n",
    "\n",
    "\n",
    ">**Note:** Code and Markdown cells can be executed using the **Shift + Enter** keyboard shortcut. In addition, Markdown cells can be edited by typically double-clicking the cell to enter edit mode."
   ]
  },
  {
   "cell_type": "markdown",
   "metadata": {
    "colab_type": "text",
    "id": "Rk3aLDp8mtHQ"
   },
   "source": [
    "## Import Packages"
   ]
  },
  {
   "cell_type": "code",
   "execution_count": 1,
   "metadata": {
    "colab": {},
    "colab_type": "code",
    "id": "7hLdOxAQmtHQ"
   },
   "outputs": [],
   "source": [
    "import numpy as np\n",
    "import pandas as pd\n",
    "import cv2\n",
    "\n",
    "import tensorflow as tf\n",
    "\n",
    "from sklearn.utils import shuffle\n",
    "from tensorflow.contrib.layers import flatten"
   ]
  },
  {
   "cell_type": "markdown",
   "metadata": {
    "colab_type": "text",
    "id": "Rsp_vm8_mtI0"
   },
   "source": [
    "---\n",
    "## Step 0: Load The Data"
   ]
  },
  {
   "cell_type": "code",
   "execution_count": 2,
   "metadata": {
    "colab": {},
    "colab_type": "code",
    "id": "4LgdXsHlmtI0"
   },
   "outputs": [],
   "source": [
    "# Load pickled data\n",
    "import pickle\n",
    "\n",
    "# TODO: Fill this in based on where you saved the training and testing data\n",
    "\n",
    "training_file = \"../data/train.p\"\n",
    "validation_file= \"../data/valid.p\"\n",
    "testing_file = \"../data/test.p\"\n",
    "\n",
    "with open(training_file, mode='rb') as f:\n",
    "    train = pickle.load(f)\n",
    "with open(validation_file, mode='rb') as f:\n",
    "    valid = pickle.load(f)\n",
    "with open(testing_file, mode='rb') as f:\n",
    "    test = pickle.load(f)\n",
    "    \n",
    "X_train, y_train = train['features'], train['labels']\n",
    "X_valid, y_valid = valid['features'], valid['labels']    \n",
    "X_test, y_test = test['features'], test['labels']"
   ]
  },
  {
   "cell_type": "markdown",
   "metadata": {
    "colab_type": "text",
    "id": "P0vKMO_UmtI0"
   },
   "source": [
    "---\n",
    "\n",
    "## Step 1: Dataset Summary & Exploration\n",
    "\n",
    "The pickled data is a dictionary with 4 key/value pairs:\n",
    "\n",
    "- `'features'` is a 4D array containing raw pixel data of the traffic sign images, (num examples, width, height, channels).\n",
    "- `'labels'` is a 1D array containing the label/class id of the traffic sign. The file `signnames.csv` contains id -> name mappings for each id.\n",
    "- `'sizes'` is a list containing tuples, (width, height) representing the original width and height the image.\n",
    "- `'coords'` is a list containing tuples, (x1, y1, x2, y2) representing coordinates of a bounding box around the sign in the image. **THESE COORDINATES ASSUME THE ORIGINAL IMAGE. THE PICKLED DATA CONTAINS RESIZED VERSIONS (32 by 32) OF THESE IMAGES**\n",
    "\n",
    "Complete the basic data summary below. Use python, numpy and/or pandas methods to calculate the data summary rather than hard coding the results. For example, the [pandas shape method](http://pandas.pydata.org/pandas-docs/stable/generated/pandas.DataFrame.shape.html) might be useful for calculating some of the summary results. "
   ]
  },
  {
   "cell_type": "markdown",
   "metadata": {
    "colab_type": "text",
    "id": "0yv8OfnCmtI0"
   },
   "source": [
    "### Provide a Basic Summary of the Data Set Using Python, Numpy and/or Pandas"
   ]
  },
  {
   "cell_type": "code",
   "execution_count": 3,
   "metadata": {
    "colab": {
     "base_uri": "https://localhost:8080/",
     "height": 104
    },
    "colab_type": "code",
    "executionInfo": {
     "elapsed": 17000,
     "status": "ok",
     "timestamp": 1588544635500,
     "user": {
      "displayName": "Pepe T.",
      "photoUrl": "",
      "userId": "15713094074826890653"
     },
     "user_tz": 0
    },
    "id": "F5RYbkVOmtI0",
    "outputId": "c1497f4b-b05c-42e4-9630-a9b329490d10"
   },
   "outputs": [
    {
     "name": "stdout",
     "output_type": "stream",
     "text": [
      "Number of training examples = 34799\n",
      "Number of validation examples = 4410\n",
      "Number of testing examples = 12630\n",
      "Image data shape = (32, 32, 3)\n",
      "Number of classes = 43\n"
     ]
    }
   ],
   "source": [
    "### Replace each question mark with the appropriate value. \n",
    "### Use python, pandas or numpy methods rather than hard coding the results\n",
    "\n",
    "# TODO: Number of training examples\n",
    "n_train = X_train.shape[0]\n",
    "\n",
    "# TODO: Number of validation examples\n",
    "n_validation = X_valid.shape[0]\n",
    "\n",
    "# TODO: Number of testing examples.\n",
    "n_test = X_test.shape[0]\n",
    "\n",
    "# TODO: What's the shape of an traffic sign image?\n",
    "image_shape = X_train[0].shape\n",
    "\n",
    "# TODO: How many unique classes/labels there are in the dataset.\n",
    "classes = pd.read_csv('signnames.csv')\n",
    "n_classes = classes.shape[0]\n",
    "\n",
    "print(\"Number of training examples =\", n_train)\n",
    "print(\"Number of validation examples =\", n_validation)\n",
    "print(\"Number of testing examples =\", n_test)\n",
    "print(\"Image data shape =\", image_shape)\n",
    "print(\"Number of classes =\", n_classes)"
   ]
  },
  {
   "cell_type": "markdown",
   "metadata": {
    "colab_type": "text",
    "id": "z9_sel-omtI0"
   },
   "source": [
    "### Check data dimensions"
   ]
  },
  {
   "cell_type": "code",
   "execution_count": 4,
   "metadata": {
    "colab": {},
    "colab_type": "code",
    "id": "0MWfLbcumtI0"
   },
   "outputs": [],
   "source": [
    "assert(len(X_train) == len(y_train))\n",
    "assert(len(X_valid) == len(y_valid))\n",
    "assert(len(X_test) == len(y_test))"
   ]
  },
  {
   "cell_type": "markdown",
   "metadata": {
    "colab_type": "text",
    "id": "dLGKS-4HmtI0"
   },
   "source": [
    "### Include an exploratory visualization of the dataset"
   ]
  },
  {
   "cell_type": "markdown",
   "metadata": {
    "colab_type": "text",
    "id": "Cqk-_GuvmtI0"
   },
   "source": [
    "Visualize the German Traffic Signs Dataset using the pickled file(s). This is open ended, suggestions include: plotting traffic sign images, plotting the count of each sign, etc. \n",
    "\n",
    "The [Matplotlib](http://matplotlib.org/) [examples](http://matplotlib.org/examples/index.html) and [gallery](http://matplotlib.org/gallery.html) pages are a great resource for doing visualizations in Python.\n",
    "\n",
    "**NOTE:** It's recommended you start with something simple first. If you wish to do more, come back to it after you've completed the rest of the sections. It can be interesting to look at the distribution of classes in the training, validation and test set. Is the distribution the same? Are there more examples of some classes than others?"
   ]
  },
  {
   "cell_type": "code",
   "execution_count": 5,
   "metadata": {
    "colab": {},
    "colab_type": "code",
    "id": "h-ry5TWWmtI0"
   },
   "outputs": [],
   "source": [
    "### Data exploration visualization code goes here.\n",
    "### Feel free to use as many code cells as needed.\n",
    "import matplotlib.pyplot as plt\n",
    "# Visualizations will be shown in the notebook.\n",
    "%matplotlib inline"
   ]
  },
  {
   "cell_type": "code",
   "execution_count": 16,
   "metadata": {
    "colab": {
     "base_uri": "https://localhost:8080/",
     "height": 283
    },
    "colab_type": "code",
    "executionInfo": {
     "elapsed": 5100,
     "status": "ok",
     "timestamp": 1588544635700,
     "user": {
      "displayName": "Pepe T.",
      "photoUrl": "",
      "userId": "15713094074826890653"
     },
     "user_tz": 0
    },
    "id": "hftCqK9tmtI0",
    "outputId": "00272157-c76a-4c96-e633-899bf9833549"
   },
   "outputs": [
    {
     "name": "stdout",
     "output_type": "stream",
     "text": [
      "Class: 1 Speed limit (30km/h)\n"
     ]
    },
    {
     "data": {
      "image/png": "[encoded data removed]",
      "text/plain": [
       "<matplotlib.figure.Figure at 0x7fbe509957b8>"
      ]
     },
     "metadata": {
      "needs_background": "light"
     },
     "output_type": "display_data"
    }
   ],
   "source": [
    "# Show a random image from the training data\n",
    "n = np.random.randint(n_train)\n",
    "plt.imshow(X_train[n])\n",
    "print(\"Class:\", y_train[n], classes['SignName'][y_train[n]])"
   ]
  },
  {
   "cell_type": "markdown",
   "metadata": {
    "colab_type": "text",
    "id": "8_pA5O4mmtI0"
   },
   "source": [
    "## Distribution of classes\n",
    "### Training set"
   ]
  },
  {
   "cell_type": "code",
   "execution_count": 6,
   "metadata": {
    "colab": {
     "base_uri": "https://localhost:8080/",
     "height": 237
    },
    "colab_type": "code",
    "executionInfo": {
     "elapsed": 1400,
     "status": "error",
     "timestamp": 1588544359800,
     "user": {
      "displayName": "Pepe T.",
      "photoUrl": "",
      "userId": "15713094074826890653"
     },
     "user_tz": 0
    },
    "id": "khlisX7ZmtI0",
    "outputId": "3d8e9662-21c1-45b0-f3ab-3f22d41abee8"
   },
   "outputs": [],
   "source": [
    "train_classes = np.zeros(n_classes)\n",
    "y_list = list(y_train)\n",
    "\n",
    "for c in classes['ClassId']:\n",
    "    train_classes[c] = y_list.count(c)"
   ]
  },
  {
   "cell_type": "code",
   "execution_count": 7,
   "metadata": {
    "colab": {
     "base_uri": "https://localhost:8080/",
     "height": 367
    },
    "colab_type": "code",
    "executionInfo": {
     "elapsed": 1400,
     "status": "ok",
     "timestamp": 1588544360300,
     "user": {
      "displayName": "Pepe T.",
      "photoUrl": "",
      "userId": "15713094074826890653"
     },
     "user_tz": 0
    },
    "id": "paba3i5AmtI0",
    "outputId": "ab3b8a55-afdb-4c6d-97a8-a35644cb8e71"
   },
   "outputs": [
    {
     "data": {
      "text/plain": [
       "Text(0,0.5,'Images')"
      ]
     },
     "execution_count": 7,
     "metadata": {},
     "output_type": "execute_result"
    },
    {
     "data": {
      "image/png": "[encoded data removed]",
      "text/plain": [
       "<matplotlib.figure.Figure at 0x7fbee6d672e8>"
      ]
     },
     "metadata": {
      "needs_background": "light"
     },
     "output_type": "display_data"
    }
   ],
   "source": [
    "plt.figure(figsize=(15, 5))\n",
    "plt.bar(classes['ClassId'], train_classes)\n",
    "plt.title(\"Training Set Distribution\")\n",
    "plt.xlabel(\"Class Id\")\n",
    "plt.ylabel(\"Images\")"
   ]
  },
  {
   "cell_type": "markdown",
   "metadata": {
    "colab_type": "text",
    "id": "6F3rSfdkmtI0"
   },
   "source": [
    "### Data Augmentation\n",
    "As we can see in the histogram, we have more images of some classes than others. We should have an equal distribution of examples over all possible classes to be able to predict all of them. I decide to take the classes with less examples and add more data of that class performing data augmentation.\n",
    "\n",
    "Moreover, if we add more examples to our dataset, this will also help prevent overfitting.\n",
    "\n",
    "Reference: https://www.geeksforgeeks.org/python-data-augmentation/"
   ]
  },
  {
   "cell_type": "code",
   "execution_count": 8,
   "metadata": {
    "colab": {},
    "colab_type": "code",
    "id": "97afpuComtI0",
    "outputId": "dad926c4-d39e-401d-c69a-c764f7d02443"
   },
   "outputs": [
    {
     "name": "stderr",
     "output_type": "stream",
     "text": [
      "Using TensorFlow backend.\n"
     ]
    }
   ],
   "source": [
    "from keras.preprocessing.image import ImageDataGenerator\n",
    "\n",
    "# Initialization of the ImageDataGenerator class.\n",
    "datagen = ImageDataGenerator( \n",
    "        rotation_range = 10, \n",
    "        shear_range = 0.2, \n",
    "        zoom_range = 0.1)"
   ]
  },
  {
   "cell_type": "markdown",
   "metadata": {
    "colab_type": "text",
    "id": "zWHoH4iJmtI0"
   },
   "source": [
    "Concretely, I have taken following images indexes and multiples of how much I have augmented the data:\n",
    "\n",
    "| Class Id    | 0   | 3  | 6  | 7  | 8  | 9  | 11 | 14 | 15 | 16 | 17 | 18 | 19  | 20 | 21 | 22 | 23 | 24 | 25 | 26 | 27 | 28 | 29 | 30 | 31 | 32 | 33 | 34 | 35 | 36 | 37  | 39 | 40 | 41 | 42 |\n",
    "|-------------|-----|----|----|----|----|----|----|----|----|----|----|----|-----|----|----|----|----|----|----|----|----|----|----|----|----|----|----|----|----|----|-----|----|----|----|----|\n",
    "| **Aug. Factor** | x10 | x1 | x5 | x1 | x1 | x1 | x2 | x3 | x2 | x5 | x2 | x2 | x10 | x6 | x7 | x5 | x4 | x6 | x1 | x3 | x7 | x3 | x6 | x3 | x2 | x8 | x3 | x5 | x1 | x5 | x10 | x7 | x6 | x8 | x8 |"
   ]
  },
  {
   "cell_type": "code",
   "execution_count": 9,
   "metadata": {
    "colab": {},
    "colab_type": "code",
    "id": "G8bLBXJtmtI0"
   },
   "outputs": [],
   "source": [
    "# Function for performing data augmentation\n",
    "def data_aug(idx, aug_factor, data):\n",
    "    \"\"\"\n",
    "    The function takes the class index, the Aug. factor and data type\n",
    "    and performs data augmentation using parameters defined above.\n",
    "    \n",
    "    It saves the data as new jpeg images.\n",
    "    \"\"\"\n",
    "    #Class images\n",
    "    if data=='train':\n",
    "        x = X_train[y_train==idx]\n",
    "        path = '../data/new/'\n",
    "    elif data=='valid':\n",
    "        x = X_valid[y_valid==idx]\n",
    "        path = '../data/new_val/'\n",
    "        \n",
    "    # Generating and saving len(x)*aug_factor augmented samples\n",
    "    for i in range(len(x)):\n",
    "        #Reshape the image\n",
    "        img = x[i].reshape((1, 32, 32, 3))\n",
    "        #Loop for generating new images\n",
    "        j = 0\n",
    "        for batch in datagen.flow(x, batch_size = 1, \n",
    "                                  save_to_dir =path+str(idx),\n",
    "                                  save_prefix ='img',\n",
    "                                  save_format ='jpeg'):\n",
    "            j += 1\n",
    "            if j >= aug_factor: \n",
    "                break"
   ]
  },
  {
   "cell_type": "markdown",
   "metadata": {
    "colab_type": "text",
    "id": "eXyw-goXmtI0"
   },
   "source": [
    "After generating the data, I add the new images together with the original data in the `../data/new_train.p` pickle file."
   ]
  },
  {
   "cell_type": "code",
   "execution_count": 10,
   "metadata": {},
   "outputs": [
    {
     "name": "stdout",
     "output_type": "stream",
     "text": [
      "Number of new training examples:  92053\n"
     ]
    }
   ],
   "source": [
    "new_training_file = \"../data/new_train.p\"\n",
    "\n",
    "with open(new_training_file, mode='rb') as f:\n",
    "    X_train, y_train = pickle.load(f)\n",
    "    \n",
    "# New training examples\n",
    "n_train = X_train.shape[0]\n",
    "\n",
    "print(\"Number of new training examples: \", n_train)"
   ]
  },
  {
   "cell_type": "markdown",
   "metadata": {
    "colab_type": "text",
    "id": "KpzJdBmqmtI0"
   },
   "source": [
    "### New data distribution\n",
    "We can now plot the new training data distribution."
   ]
  },
  {
   "cell_type": "code",
   "execution_count": 11,
   "metadata": {
    "colab": {},
    "colab_type": "code",
    "id": "iA4GT7iUmtI0"
   },
   "outputs": [],
   "source": [
    "train_classes = np.zeros(n_classes)\n",
    "y_list = list(y_train)\n",
    "\n",
    "for c in classes['ClassId']:\n",
    "    train_classes[c] = y_list.count(c)"
   ]
  },
  {
   "cell_type": "code",
   "execution_count": 12,
   "metadata": {
    "colab": {},
    "colab_type": "code",
    "id": "2FxmeLyGmtI0",
    "outputId": "9cc82654-02cf-4e64-ea92-0eb8fdb57c05"
   },
   "outputs": [
    {
     "data": {
      "text/plain": [
       "Text(0,0.5,'Images')"
      ]
     },
     "execution_count": 12,
     "metadata": {},
     "output_type": "execute_result"
    },
    {
     "data": {
      "image/png": "[encoded data removed]",
      "text/plain": [
       "<matplotlib.figure.Figure at 0x7fbee6219a90>"
      ]
     },
     "metadata": {
      "needs_background": "light"
     },
     "output_type": "display_data"
    }
   ],
   "source": [
    "plt.figure(figsize=(15, 5))\n",
    "plt.bar(classes['ClassId'], train_classes)\n",
    "plt.title(\"New Training Set Distribution\")\n",
    "plt.xlabel(\"Class Id\")\n",
    "plt.ylabel(\"Images\")"
   ]
  },
  {
   "cell_type": "markdown",
   "metadata": {
    "colab_type": "text",
    "id": "uXeVgOSsmtI0"
   },
   "source": [
    "As we can see, now the training data is much more uniform over all possible classes."
   ]
  },
  {
   "cell_type": "markdown",
   "metadata": {
    "colab_type": "text",
    "id": "3jqBC4L3mtI0"
   },
   "source": [
    "### Validation set"
   ]
  },
  {
   "cell_type": "code",
   "execution_count": 13,
   "metadata": {
    "colab": {},
    "colab_type": "code",
    "id": "UrBe4-VSmtI0"
   },
   "outputs": [],
   "source": [
    "valid_classes = np.zeros(n_classes)\n",
    "y_list = list(y_valid)\n",
    "\n",
    "for c in classes['ClassId']:\n",
    "    valid_classes[c] = y_list.count(c)"
   ]
  },
  {
   "cell_type": "code",
   "execution_count": 14,
   "metadata": {
    "colab": {},
    "colab_type": "code",
    "id": "IG_JX1zXmtI0",
    "outputId": "ce65b2f7-e1c4-42ed-df75-19d9c11b2539"
   },
   "outputs": [
    {
     "data": {
      "text/plain": [
       "Text(0,0.5,'Images')"
      ]
     },
     "execution_count": 14,
     "metadata": {},
     "output_type": "execute_result"
    },
    {
     "data": {
      "image/png": "[encoded data removed]",
      "text/plain": [
       "<matplotlib.figure.Figure at 0x7fbee6c029e8>"
      ]
     },
     "metadata": {
      "needs_background": "light"
     },
     "output_type": "display_data"
    }
   ],
   "source": [
    "plt.figure(figsize=(15, 5))\n",
    "plt.bar(classes['ClassId'], valid_classes)\n",
    "plt.title(\"Validation Set Distribution\")\n",
    "plt.xlabel(\"Class Id\")\n",
    "plt.ylabel(\"Images\")"
   ]
  },
  {
   "cell_type": "markdown",
   "metadata": {
    "colab_type": "text",
    "id": "qP2Y1J6gmtI0"
   },
   "source": [
    "I have also performed data augmentation in the validation set because it has very few examples (4410) compared to the training and test sets. The new data contains around 19000 examples (20% of the new training set) and can be found in `../data/new_valid.p`.\n",
    "\n",
    "Augmenting the validation set could also prevent overfitting to the validation set. This means, obtaining a high accuracy on the validation set but not so high on the test set.\n",
    "\n",
    "After using both validation sets for training, I have decided to use the original validation set because it was performing better on the model."
   ]
  },
  {
   "cell_type": "markdown",
   "metadata": {
    "colab_type": "text",
    "id": "XmCMHpCZmtI0"
   },
   "source": [
    "### Test set"
   ]
  },
  {
   "cell_type": "code",
   "execution_count": 15,
   "metadata": {
    "colab": {},
    "colab_type": "code",
    "id": "uBCkb6zwmtI0"
   },
   "outputs": [],
   "source": [
    "test_classes = np.zeros(n_classes)\n",
    "y_list = list(y_test)\n",
    "\n",
    "for c in classes['ClassId']:\n",
    "    test_classes[c] = y_list.count(c)"
   ]
  },
  {
   "cell_type": "code",
   "execution_count": 16,
   "metadata": {
    "colab": {},
    "colab_type": "code",
    "id": "JXo_mYV6mtI0",
    "outputId": "030c2e24-bbbf-4be9-ac73-1481d7e1dad2"
   },
   "outputs": [
    {
     "data": {
      "text/plain": [
       "Text(0,0.5,'Images')"
      ]
     },
     "execution_count": 16,
     "metadata": {},
     "output_type": "execute_result"
    },
    {
     "data": {
      "image/png": "[encoded data removed]",
      "text/plain": [
       "<matplotlib.figure.Figure at 0x7fbee5fae5f8>"
      ]
     },
     "metadata": {
      "needs_background": "light"
     },
     "output_type": "display_data"
    }
   ],
   "source": [
    "plt.figure(figsize=(15, 5))\n",
    "plt.bar(classes['ClassId'], test_classes)\n",
    "plt.title(\"Test Set Distribution\")\n",
    "plt.xlabel(\"Class Id\")\n",
    "plt.ylabel(\"Images\")"
   ]
  },
  {
   "cell_type": "markdown",
   "metadata": {
    "colab_type": "text",
    "id": "wsZDsgvImtKY"
   },
   "source": [
    "Here's the test set distribution. I have not touched the test set."
   ]
  },
  {
   "cell_type": "markdown",
   "metadata": {
    "colab_type": "text",
    "id": "xT_hsK_YmtKY"
   },
   "source": [
    "----\n",
    "\n",
    "## Step 2: Design and Test a Model Architecture\n",
    "\n",
    "Design and implement a deep learning model that learns to recognize traffic signs. Train and test your model on the [German Traffic Sign Dataset](http://benchmark.ini.rub.de/?section=gtsrb&subsection=dataset).\n",
    "\n",
    "The LeNet-5 implementation shown in the [classroom](https://classroom.udacity.com/nanodegrees/nd013/parts/fbf77062-5703-404e-b60c-95b78b2f3f9e/modules/6df7ae49-c61c-4bb2-a23e-6527e69209ec/lessons/601ae704-1035-4287-8b11-e2c2716217ad/concepts/d4aca031-508f-4e0b-b493-e7b706120f81) at the end of the CNN lesson is a solid starting point. You'll have to change the number of classes and possibly the preprocessing, but aside from that it's plug and play! \n",
    "\n",
    "With the LeNet-5 solution from the lecture, you should expect a validation set accuracy of about 0.89. To meet specifications, the validation set accuracy will need to be at least 0.93. It is possible to get an even higher accuracy, but 0.93 is the minimum for a successful project submission. \n",
    "\n",
    "There are various aspects to consider when thinking about this problem:\n",
    "\n",
    "- Neural network architecture (is the network over or underfitting?)\n",
    "- Play around preprocessing techniques (normalization, rgb to grayscale, etc)\n",
    "- Number of examples per label (some have more than others).\n",
    "- Generate fake data.\n",
    "\n",
    "Here is an example of a [published baseline model on this problem](http://yann.lecun.com/exdb/publis/pdf/sermanet-ijcnn-11.pdf). It's not required to be familiar with the approach used in the paper but, it's good practice to try to read papers like these."
   ]
  },
  {
   "cell_type": "markdown",
   "metadata": {
    "colab_type": "text",
    "id": "-GUbrlbvmtKY"
   },
   "source": [
    "### Pre-process the Data Set (normalization, grayscale, etc.)"
   ]
  },
  {
   "cell_type": "markdown",
   "metadata": {
    "colab_type": "text",
    "id": "6bqeK_1UmtKY"
   },
   "source": [
    "Minimally, the image data should be normalized so that the data has mean zero and equal variance. For image data, `(pixel - 128)/ 128` is a quick way to approximately normalize the data and can be used in this project. \n",
    "\n",
    "Other pre-processing steps are optional. You can try different techniques to see if it improves performance. \n",
    "\n",
    "Use the code cell (or multiple code cells, if necessary) to implement the first step of your project."
   ]
  },
  {
   "cell_type": "markdown",
   "metadata": {
    "colab_type": "text",
    "id": "MwPWjZusmtKY"
   },
   "source": [
    "### Convert to grayscale & CLAHE"
   ]
  },
  {
   "cell_type": "code",
   "execution_count": 17,
   "metadata": {
    "colab": {},
    "colab_type": "code",
    "id": "7HUP4qpSmtKY"
   },
   "outputs": [],
   "source": [
    "# CLAHE (Contrast Limited Adaptive Histogram Equalization)\n",
    "clahe = cv2.createCLAHE(clipLimit=2.0, tileGridSize=(6,6))\n",
    "\n",
    "def preprocess(img):\n",
    "    img = cv2.cvtColor(img, cv2.COLOR_BGR2GRAY)\n",
    "    img = clahe.apply(img)\n",
    "    return img"
   ]
  },
  {
   "cell_type": "code",
   "execution_count": 18,
   "metadata": {
    "colab": {},
    "colab_type": "code",
    "id": "zSDfFLYNmtKY"
   },
   "outputs": [],
   "source": [
    "X_train = np.array(list(map(preprocess, X_train))).reshape(n_train, 32, 32, 1)\n",
    "X_valid = np.array(list(map(preprocess, X_valid))).reshape(n_validation, 32, 32, 1)\n",
    "X_test = np.array(list(map(preprocess, X_test))).reshape(n_test, 32, 32, 1)"
   ]
  },
  {
   "cell_type": "markdown",
   "metadata": {
    "colab_type": "text",
    "id": "VSA9FDsSmtKY"
   },
   "source": [
    "### Normalization"
   ]
  },
  {
   "cell_type": "code",
   "execution_count": 19,
   "metadata": {
    "colab": {},
    "colab_type": "code",
    "id": "qdYqzrhtmtKY"
   },
   "outputs": [],
   "source": [
    "X_train = (X_train - 128.0)/128.0\n",
    "X_valid = (X_valid - 128.0)/128.0\n",
    "X_test = (X_test - 128.0)/128.0"
   ]
  },
  {
   "cell_type": "markdown",
   "metadata": {
    "colab_type": "text",
    "id": "GK9qEaoimtKY"
   },
   "source": [
    "### Model Architecture"
   ]
  },
  {
   "cell_type": "code",
   "execution_count": 20,
   "metadata": {
    "colab": {},
    "colab_type": "code",
    "id": "0Ymk8VLTmtKY"
   },
   "outputs": [],
   "source": [
    "def model(x): \n",
    "    # Arguments used for tf.truncated_normal, randomly defines variables for the weights and biases for each layer\n",
    "    mu = 0\n",
    "    sigma = 0.1\n",
    "    \n",
    "    # Weights (for regularization)\n",
    "    weights = []\n",
    "    \n",
    "    #==========  CONV LAYER 1 ==========#\n",
    "    # Input = 32x32x1. Output = 32x32x16.\n",
    "    conv1_W = tf.Variable(tf.truncated_normal(shape=(5, 5, 1, 16), mean = mu, stddev = sigma))\n",
    "    weights.append(conv1_W)\n",
    "    conv1_b = tf.Variable(tf.zeros(16))\n",
    "    conv1   = tf.nn.conv2d(x, conv1_W, strides=[1, 1, 1, 1], padding='SAME') + conv1_b\n",
    "    # Activation.\n",
    "    conv1 = tf.nn.relu(conv1)\n",
    "    \n",
    "    #==========  CONV LAYER 2 ==========#\n",
    "    # Input = 32x32x16. Output = 32x32x16.\n",
    "    conv2_W = tf.Variable(tf.truncated_normal(shape=(5, 5, 16, 16), mean = mu, stddev = sigma))\n",
    "    weights.append(conv2_W)\n",
    "    conv2_b = tf.Variable(tf.zeros(16))\n",
    "    conv2   = tf.nn.conv2d(conv1, conv2_W, strides=[1, 1, 1, 1], padding='SAME') + conv2_b\n",
    "    # Activation.\n",
    "    conv2 = tf.nn.relu(conv2)\n",
    "    \n",
    "    # Pooling. Input = 32x32x16. Output = 16x16x16.\n",
    "    conv2 = tf.nn.max_pool(conv2, ksize=[1, 2, 2, 1], strides=[1, 2, 2, 1], padding='VALID')\n",
    "    \n",
    "    #==========  CONV LAYER 3 ==========#\n",
    "    # Input = 16x16x16. Output = 16x16x32.\n",
    "    conv3_W = tf.Variable(tf.truncated_normal(shape=(3, 3, 16, 32), mean = mu, stddev = sigma))\n",
    "    weights.append(conv3_W)\n",
    "    conv3_b = tf.Variable(tf.zeros(32))\n",
    "    conv3   = tf.nn.conv2d(conv2, conv3_W, strides=[1, 1, 1, 1], padding='SAME') + conv3_b\n",
    "    # Activation\n",
    "    conv3 = tf.nn.relu(conv3)\n",
    "    \n",
    "    #==========  CONV LAYER 4 ==========#\n",
    "    # Input = 16x16x32. Output = 16x16x32.\n",
    "    conv4_W = tf.Variable(tf.truncated_normal(shape=(3, 3, 32, 32), mean = mu, stddev = sigma))\n",
    "    weights.append(conv4_W)\n",
    "    conv4_b = tf.Variable(tf.zeros(32))\n",
    "    conv4   = tf.nn.conv2d(conv3, conv4_W, strides=[1, 1, 1, 1], padding='SAME') + conv4_b\n",
    "    \n",
    "    #======= Shortcut connection =======#\n",
    "    # Between conv2 & conv4\n",
    "    conv2s_W = tf.Variable(tf.truncated_normal(shape=(1, 1, 16, 32), mean = mu, stddev = sigma))\n",
    "    conv2s_b = tf.Variable(tf.zeros(32))\n",
    "    conv2 = tf.nn.conv2d(conv2, conv2s_W, strides=[1, 1, 1, 1], padding='VALID') + conv2s_b\n",
    "    # Addition & Activation.\n",
    "    conv4 = tf.add(conv2, conv4)\n",
    "    conv4 = tf.nn.relu(conv4)\n",
    "    \n",
    "    # Pooling. Input = 16x16x32. Output = 8x8x32.\n",
    "    conv4 = tf.nn.max_pool(conv4, ksize=[1, 2, 2, 1], strides=[1, 2, 2, 1], padding='VALID')\n",
    "    \n",
    "    #==========  CONV LAYER 5 ==========#\n",
    "    # Input = 8x8x32. Output = 8x8x64.\n",
    "    conv5_W = tf.Variable(tf.truncated_normal(shape=(3, 3, 32, 64), mean = mu, stddev = sigma))\n",
    "    weights.append(conv5_W)\n",
    "    conv5_b = tf.Variable(tf.zeros(64))\n",
    "    conv5   = tf.nn.conv2d(conv4, conv5_W, strides=[1, 1, 1, 1], padding='SAME') + conv5_b\n",
    "    # Activation.\n",
    "    conv5 = tf.nn.relu(conv5)\n",
    "    \n",
    "    #==========  CONV LAYER 6 ==========#\n",
    "    # Input = 8x8x64. Output = 8x8x64.\n",
    "    conv6_W = tf.Variable(tf.truncated_normal(shape=(1, 1, 64, 64), mean = mu, stddev = sigma))\n",
    "    weights.append(conv6_W)\n",
    "    conv6_b = tf.Variable(tf.zeros(64))\n",
    "    conv6   = tf.nn.conv2d(conv5, conv6_W, strides=[1, 1, 1, 1], padding='VALID') + conv6_b\n",
    "    \n",
    "    #======= Shortcut connection =======#\n",
    "    # Between conv4 & conv6\n",
    "    conv4s_W = tf.Variable(tf.truncated_normal(shape=(1, 1, 32, 64), mean = mu, stddev = sigma))\n",
    "    conv4s_b = tf.Variable(tf.zeros(64))\n",
    "    conv4 = tf.nn.conv2d(conv4, conv4s_W, strides=[1, 1, 1, 1], padding='VALID') + conv4s_b\n",
    "    # Addition & Activation.\n",
    "    conv6 = tf.add(conv4, conv6)\n",
    "    conv6 = tf.nn.relu(conv6)\n",
    "    \n",
    "    # Pooling. Input = 8x8x64. Output = 4x4x64.\n",
    "    conv6 = tf.nn.max_pool(conv6, ksize=[1, 2, 2, 1], strides=[1, 2, 2, 1], padding='VALID')\n",
    "\n",
    "    #========== FLATTEN ==========#    \n",
    "    fc0 = flatten(conv6) # 1024\n",
    "    # Dropout\n",
    "    fc0 = tf.nn.dropout(fc0, keep_prob)\n",
    "    \n",
    "    #========= FC LAYER 1 ========#\n",
    "    # Input = 1024. Output = 1024.\n",
    "    fc1_W  = tf.Variable(tf.truncated_normal(shape=(1024, 1024), mean = mu, stddev = sigma))\n",
    "    fc1_b  = tf.Variable(tf.zeros(1024))\n",
    "    fc1 = tf.matmul(fc0, fc1_W) + fc1_b\n",
    "    # Activation\n",
    "    fc1 = tf.nn.relu(fc1)\n",
    "    # Dropout\n",
    "    fc1 = tf.nn.dropout(fc1, keep_prob)\n",
    "    \n",
    "    #========= FC LAYER 2 ========#\n",
    "    # Input = 1024. Output = 256.\n",
    "    fc2_W  = tf.Variable(tf.truncated_normal(shape=(1024, 256), mean = mu, stddev = sigma))\n",
    "    fc2_b  = tf.Variable(tf.zeros(256))\n",
    "    fc2 = tf.matmul(fc1, fc2_W) + fc2_b\n",
    "    # Activation.\n",
    "    fc2 = tf.nn.relu(fc2)\n",
    "    #Dropout\n",
    "    fc2 = tf.nn.dropout(fc2, keep_prob)\n",
    "    \n",
    "    #========= FC LAYER 3 ========#\n",
    "    # Input = 256. Output = 43.\n",
    "    fc3_W  = tf.Variable(tf.truncated_normal(shape=(256, 43), mean = mu, stddev = sigma))\n",
    "    fc3_b  = tf.Variable(tf.zeros(43))\n",
    "    logits = tf.matmul(fc2, fc3_W) + fc3_b\n",
    "    #Dropout\n",
    "    logits = tf.nn.dropout(logits, keep_prob)\n",
    "    \n",
    "    return logits, weights"
   ]
  },
  {
   "cell_type": "markdown",
   "metadata": {
    "colab_type": "text",
    "id": "d6lThItTmtKY"
   },
   "source": [
    "### Placeholders"
   ]
  },
  {
   "cell_type": "code",
   "execution_count": 21,
   "metadata": {
    "colab": {},
    "colab_type": "code",
    "id": "FNdKb6XJmtKY"
   },
   "outputs": [],
   "source": [
    "x = tf.placeholder(tf.float32, (None, 32, 32, 1))\n",
    "y = tf.placeholder(tf.int32, (None))\n",
    "keep_prob = tf.placeholder(tf.float32)\n",
    "one_hot_y = tf.one_hot(y, 43)"
   ]
  },
  {
   "cell_type": "markdown",
   "metadata": {
    "colab_type": "text",
    "id": "vKiUKZXnmtKY"
   },
   "source": [
    "### Train, Validate and Test the Model"
   ]
  },
  {
   "cell_type": "markdown",
   "metadata": {
    "colab_type": "text",
    "id": "GfyCKkeQmtKY"
   },
   "source": [
    "A validation set can be used to assess how well the model is performing. A low accuracy on the training and validation\n",
    "sets imply underfitting. A high accuracy on the training set but low accuracy on the validation set implies overfitting."
   ]
  },
  {
   "cell_type": "code",
   "execution_count": 22,
   "metadata": {
    "colab": {
     "base_uri": "https://localhost:8080/",
     "height": 228
    },
    "colab_type": "code",
    "executionInfo": {
     "elapsed": 3100,
     "status": "ok",
     "timestamp": 1588544650300,
     "user": {
      "displayName": "Pepe T.",
      "photoUrl": "",
      "userId": "15713094074826890653"
     },
     "user_tz": 0
    },
    "id": "FaHIsfecmtKY",
    "outputId": "ddd637d0-6276-42d9-ee90-0122baf15ffc"
   },
   "outputs": [],
   "source": [
    "#HYPERMARAMETERS\n",
    "rate = 0.001\n",
    "reg_param = 0.0005\n",
    "EPOCHS = 50\n",
    "BATCH_SIZE = 512\n",
    "\n",
    "logits, weights = model(x)\n",
    "\n",
    "# Cross Entropy\n",
    "cross_entropy = tf.nn.softmax_cross_entropy_with_logits(labels=one_hot_y, logits=logits)\n",
    "# Regularization term\n",
    "regularization = reg_param * sum(list(map(lambda w: tf.nn.l2_loss(w), weights)))\n",
    "\n",
    "# Total loss\n",
    "loss_operation = tf.reduce_mean(cross_entropy + regularization)\n",
    "\n",
    "# Adam Optimizer\n",
    "optimizer = tf.train.AdamOptimizer(learning_rate = rate)\n",
    "training_operation = optimizer.minimize(loss_operation)"
   ]
  },
  {
   "cell_type": "markdown",
   "metadata": {
    "colab_type": "text",
    "id": "sj98oYqimtKY"
   },
   "source": [
    "### Evaluation"
   ]
  },
  {
   "cell_type": "code",
   "execution_count": 23,
   "metadata": {
    "colab": {},
    "colab_type": "code",
    "id": "yk8q6VYVmtKY"
   },
   "outputs": [],
   "source": [
    "#Accuracy\n",
    "correct_prediction = tf.equal(tf.argmax(logits, 1), tf.argmax(one_hot_y, 1))\n",
    "accuracy_operation = tf.reduce_mean(tf.cast(correct_prediction, tf.float32))\n",
    "\n",
    "#Save the model\n",
    "saver = tf.train.Saver()\n",
    "\n",
    "#Function for evaluation\n",
    "def evaluate(X_data, y_data):\n",
    "    '''\n",
    "    * It takes x and y data\n",
    "    * Returns loss and accuracy\n",
    "    '''\n",
    "    num_examples = len(X_data)\n",
    "    total_accuracy = 0\n",
    "    total_loss = 0\n",
    "    \n",
    "    sess = tf.get_default_session()\n",
    "    for offset in range(0, num_examples, BATCH_SIZE):\n",
    "        #Mini batch\n",
    "        batch_x, batch_y = X_data[offset:offset+BATCH_SIZE], y_data[offset:offset+BATCH_SIZE]\n",
    "        \n",
    "        #Loss\n",
    "        loss = sess.run(loss_operation, feed_dict={x: batch_x, y: batch_y, keep_prob: 1.0})\n",
    "        #Accuracy\n",
    "        accuracy = sess.run(accuracy_operation, feed_dict={x: batch_x, y: batch_y, keep_prob: 1.0})\n",
    "        \n",
    "        #Total\n",
    "        total_loss += (loss * len(batch_x))\n",
    "        total_accuracy += (accuracy * len(batch_x))\n",
    "        \n",
    "    return total_loss / num_examples, total_accuracy / num_examples"
   ]
  },
  {
   "cell_type": "markdown",
   "metadata": {
    "colab_type": "text",
    "id": "gNii0ukkmtKY"
   },
   "source": [
    "### Training"
   ]
  },
  {
   "cell_type": "code",
   "execution_count": 16,
   "metadata": {
    "colab": {
     "base_uri": "https://localhost:8080/",
     "height": 1000
    },
    "colab_type": "code",
    "executionInfo": {
     "elapsed": 639200,
     "status": "ok",
     "timestamp": 1588545289800,
     "user": {
      "displayName": "Pepe T.",
      "photoUrl": "",
      "userId": "15713094074826890653"
     },
     "user_tz": 0
    },
    "id": "QqZURUD5mtKY",
    "outputId": "c1d7dc64-7f55-4cb9-8f5d-35df8ed42ef9",
    "scrolled": false
   },
   "outputs": [
    {
     "name": "stdout",
     "output_type": "stream",
     "text": [
      "Training...\n",
      "\n",
      "EPOCH 1 ...\n",
      "Loss = 3.491 Accuracy = 0.198\n",
      "Val_Loss = 3.602 Val_Accuracy = 0.134\n",
      "\n",
      "EPOCH 2 ...\n",
      "Loss = 1.504 Accuracy = 0.797\n",
      "Val_Loss = 1.763 Val_Accuracy = 0.708\n",
      "\n",
      "EPOCH 3 ...\n",
      "Loss = 0.672 Accuracy = 0.913\n",
      "Val_Loss = 0.837 Val_Accuracy = 0.870\n",
      "\n",
      "EPOCH 4 ...\n",
      "Loss = 0.369 Accuracy = 0.958\n",
      "Val_Loss = 0.470 Val_Accuracy = 0.935\n",
      "\n",
      "EPOCH 5 ...\n",
      "Loss = 0.272 Accuracy = 0.970\n",
      "Val_Loss = 0.395 Val_Accuracy = 0.947\n",
      "\n",
      "EPOCH 6 ...\n",
      "Loss = 0.182 Accuracy = 0.983\n",
      "Val_Loss = 0.248 Val_Accuracy = 0.967\n",
      "\n",
      "EPOCH 7 ...\n",
      "Loss = 0.138 Accuracy = 0.988\n",
      "Val_Loss = 0.198 Val_Accuracy = 0.971\n",
      "\n",
      "EPOCH 8 ...\n",
      "Loss = 0.127 Accuracy = 0.990\n",
      "Val_Loss = 0.177 Val_Accuracy = 0.975\n",
      "\n",
      "EPOCH 9 ...\n",
      "Loss = 0.111 Accuracy = 0.991\n",
      "Val_Loss = 0.182 Val_Accuracy = 0.971\n",
      "\n",
      "EPOCH 10 ...\n",
      "Loss = 0.102 Accuracy = 0.993\n",
      "Val_Loss = 0.161 Val_Accuracy = 0.974\n",
      "\n",
      "EPOCH 11 ...\n",
      "Loss = 0.091 Accuracy = 0.995\n",
      "Val_Loss = 0.145 Val_Accuracy = 0.981\n",
      "\n",
      "EPOCH 12 ...\n",
      "Loss = 0.091 Accuracy = 0.995\n",
      "Val_Loss = 0.148 Val_Accuracy = 0.976\n",
      "\n",
      "EPOCH 13 ...\n",
      "Loss = 0.084 Accuracy = 0.996\n",
      "Val_Loss = 0.137 Val_Accuracy = 0.980\n",
      "\n",
      "EPOCH 14 ...\n",
      "Loss = 0.080 Accuracy = 0.996\n",
      "Val_Loss = 0.132 Val_Accuracy = 0.981\n",
      "\n",
      "EPOCH 15 ...\n",
      "Loss = 0.076 Accuracy = 0.997\n",
      "Val_Loss = 0.124 Val_Accuracy = 0.983\n",
      "\n",
      "EPOCH 16 ...\n",
      "Loss = 0.073 Accuracy = 0.997\n",
      "Val_Loss = 0.122 Val_Accuracy = 0.981\n",
      "\n",
      "EPOCH 17 ...\n",
      "Loss = 0.074 Accuracy = 0.997\n",
      "Val_Loss = 0.113 Val_Accuracy = 0.988\n",
      "\n",
      "EPOCH 18 ...\n",
      "Loss = 0.069 Accuracy = 0.998\n",
      "Val_Loss = 0.111 Val_Accuracy = 0.985\n",
      "\n",
      "EPOCH 19 ...\n",
      "Loss = 0.070 Accuracy = 0.997\n",
      "Val_Loss = 0.102 Val_Accuracy = 0.987\n",
      "\n",
      "EPOCH 20 ...\n",
      "Loss = 0.068 Accuracy = 0.998\n",
      "Val_Loss = 0.108 Val_Accuracy = 0.985\n",
      "\n",
      "EPOCH 21 ...\n",
      "Loss = 0.065 Accuracy = 0.998\n",
      "Val_Loss = 0.121 Val_Accuracy = 0.982\n",
      "\n",
      "EPOCH 22 ...\n",
      "Loss = 0.066 Accuracy = 0.997\n",
      "Val_Loss = 0.106 Val_Accuracy = 0.986\n",
      "\n",
      "EPOCH 23 ...\n",
      "Loss = 0.066 Accuracy = 0.998\n",
      "Val_Loss = 0.111 Val_Accuracy = 0.985\n",
      "\n",
      "EPOCH 24 ...\n",
      "Loss = 0.060 Accuracy = 0.999\n",
      "Val_Loss = 0.103 Val_Accuracy = 0.986\n",
      "\n",
      "EPOCH 25 ...\n",
      "Loss = 0.060 Accuracy = 0.999\n",
      "Val_Loss = 0.101 Val_Accuracy = 0.987\n",
      "\n",
      "EPOCH 26 ...\n",
      "Loss = 0.059 Accuracy = 0.999\n",
      "Val_Loss = 0.103 Val_Accuracy = 0.988\n",
      "\n",
      "EPOCH 27 ...\n",
      "Loss = 0.057 Accuracy = 0.999\n",
      "Val_Loss = 0.099 Val_Accuracy = 0.987\n",
      "\n",
      "EPOCH 28 ...\n",
      "Loss = 0.057 Accuracy = 0.999\n",
      "Val_Loss = 0.107 Val_Accuracy = 0.985\n",
      "\n",
      "EPOCH 29 ...\n",
      "Loss = 0.057 Accuracy = 0.999\n",
      "Val_Loss = 0.112 Val_Accuracy = 0.985\n",
      "\n",
      "EPOCH 30 ...\n",
      "Loss = 0.054 Accuracy = 0.999\n",
      "Val_Loss = 0.097 Val_Accuracy = 0.988\n",
      "\n",
      "EPOCH 31 ...\n",
      "Loss = 0.055 Accuracy = 0.999\n",
      "Val_Loss = 0.086 Val_Accuracy = 0.991\n",
      "\n",
      "EPOCH 32 ...\n",
      "Loss = 0.059 Accuracy = 0.998\n",
      "Val_Loss = 0.085 Val_Accuracy = 0.991\n",
      "\n",
      "EPOCH 33 ...\n",
      "Loss = 0.053 Accuracy = 0.999\n",
      "Val_Loss = 0.094 Val_Accuracy = 0.988\n",
      "\n",
      "EPOCH 34 ...\n",
      "Loss = 0.053 Accuracy = 0.999\n",
      "Val_Loss = 0.092 Val_Accuracy = 0.989\n",
      "\n",
      "EPOCH 35 ...\n",
      "Loss = 0.055 Accuracy = 0.998\n",
      "Val_Loss = 0.110 Val_Accuracy = 0.983\n",
      "\n",
      "EPOCH 36 ...\n",
      "Loss = 0.051 Accuracy = 0.999\n",
      "Val_Loss = 0.087 Val_Accuracy = 0.990\n",
      "\n",
      "EPOCH 37 ...\n",
      "Loss = 0.048 Accuracy = 0.999\n",
      "Val_Loss = 0.086 Val_Accuracy = 0.990\n",
      "\n",
      "EPOCH 38 ...\n",
      "Loss = 0.049 Accuracy = 0.999\n",
      "Val_Loss = 0.086 Val_Accuracy = 0.990\n",
      "\n",
      "EPOCH 39 ...\n",
      "Loss = 0.048 Accuracy = 0.999\n",
      "Val_Loss = 0.097 Val_Accuracy = 0.990\n",
      "\n",
      "EPOCH 40 ...\n",
      "Loss = 0.049 Accuracy = 0.999\n",
      "Val_Loss = 0.092 Val_Accuracy = 0.988\n",
      "\n",
      "EPOCH 41 ...\n",
      "Loss = 0.048 Accuracy = 0.999\n",
      "Val_Loss = 0.095 Val_Accuracy = 0.985\n",
      "\n",
      "EPOCH 42 ...\n",
      "Loss = 0.047 Accuracy = 0.999\n",
      "Val_Loss = 0.084 Val_Accuracy = 0.988\n",
      "\n",
      "EPOCH 43 ...\n",
      "Loss = 0.046 Accuracy = 0.999\n",
      "Val_Loss = 0.106 Val_Accuracy = 0.984\n",
      "\n",
      "EPOCH 44 ...\n",
      "Loss = 0.047 Accuracy = 0.999\n",
      "Val_Loss = 0.098 Val_Accuracy = 0.985\n",
      "\n",
      "EPOCH 45 ...\n",
      "Loss = 0.045 Accuracy = 0.999\n",
      "Val_Loss = 0.091 Val_Accuracy = 0.987\n",
      "\n",
      "EPOCH 46 ...\n",
      "Loss = 0.043 Accuracy = 1.000\n",
      "Val_Loss = 0.075 Val_Accuracy = 0.991\n",
      "\n",
      "EPOCH 47 ...\n",
      "Loss = 0.045 Accuracy = 0.999\n",
      "Val_Loss = 0.091 Val_Accuracy = 0.989\n",
      "\n",
      "EPOCH 48 ...\n",
      "Loss = 0.045 Accuracy = 0.999\n",
      "Val_Loss = 0.082 Val_Accuracy = 0.989\n",
      "\n",
      "EPOCH 49 ...\n",
      "Loss = 0.046 Accuracy = 0.999\n",
      "Val_Loss = 0.082 Val_Accuracy = 0.990\n",
      "\n",
      "EPOCH 50 ...\n",
      "Loss = 0.043 Accuracy = 1.000\n",
      "Val_Loss = 0.082 Val_Accuracy = 0.991\n",
      "\n",
      "Model saved\n"
     ]
    }
   ],
   "source": [
    "# List for plotting the results\n",
    "total_loss = []\n",
    "total_val_loss = []\n",
    "total_acc = []\n",
    "total_val_acc = []\n",
    "\n",
    "with tf.Session() as sess:\n",
    "    #Variables initialization\n",
    "    sess.run(tf.global_variables_initializer())\n",
    "    num_examples = len(X_train)\n",
    "    \n",
    "    print(\"Training...\")\n",
    "    print()\n",
    "    #For each epoch\n",
    "    for i in range(EPOCHS):\n",
    "        #Shuffle the data\n",
    "        X_train, y_train = shuffle(X_train, y_train)\n",
    "        \n",
    "        #For each mini batch\n",
    "        for offset in range(0, num_examples, BATCH_SIZE):\n",
    "            #Mini batch definition\n",
    "            end = offset + BATCH_SIZE\n",
    "            batch_x, batch_y = X_train[offset:end], y_train[offset:end]\n",
    "            \n",
    "            #One forward and backward pass\n",
    "            sess.run(training_operation, feed_dict={x: batch_x, y: batch_y, keep_prob: 0.5})\n",
    "            \n",
    "        #Print evaluation metrics\n",
    "        print(\"EPOCH {} ...\".format(i+1))\n",
    "        \n",
    "        #Training loss & accuracy\n",
    "        loss, accuracy = evaluate(X_train, y_train)\n",
    "        print(\"Loss = {:.3f}\".format(loss), \n",
    "              \"Accuracy = {:.3f}\".format(accuracy))\n",
    "        total_loss.append(loss)\n",
    "        total_acc.append(accuracy)\n",
    "        \n",
    "        #Validation loss & accuracy\n",
    "        val_loss, val_accuracy = evaluate(X_valid, y_valid)\n",
    "        print(\"Val_Loss = {:.3f}\".format(val_loss), \n",
    "              \"Val_Accuracy = {:.3f}\".format(val_accuracy))\n",
    "        total_val_loss.append(val_loss)\n",
    "        total_val_acc.append(val_accuracy)\n",
    "        print()\n",
    "        \n",
    "    #Save the model\n",
    "    saver.save(sess, './save_model/model.chkpt')\n",
    "    print(\"Model saved\")"
   ]
  },
  {
   "cell_type": "markdown",
   "metadata": {
    "colab_type": "text",
    "id": "LvE1alzymtKY"
   },
   "source": [
    "### Loss history"
   ]
  },
  {
   "cell_type": "code",
   "execution_count": 17,
   "metadata": {
    "colab": {
     "base_uri": "https://localhost:8080/",
     "height": 312
    },
    "colab_type": "code",
    "executionInfo": {
     "elapsed": 800,
     "status": "ok",
     "timestamp": 1588545311000,
     "user": {
      "displayName": "Pepe T.",
      "photoUrl": "",
      "userId": "15713094074826890653"
     },
     "user_tz": 0
    },
    "id": "aZEeTQeGmtKY",
    "outputId": "5c489fe9-77b1-48c2-c52b-a418d3466337"
   },
   "outputs": [
    {
     "data": {
      "text/plain": [
       "Text(0.5, 0, 'Epochs')"
      ]
     },
     "execution_count": 17,
     "metadata": {
      "tags": []
     },
     "output_type": "execute_result"
    },
    {
     "data": {
      "image/png": "[encoded data removed]",
      "text/plain": [
       "<Figure size 432x288 with 1 Axes>"
      ]
     },
     "metadata": {
      "needs_background": "light",
      "tags": []
     },
     "output_type": "display_data"
    }
   ],
   "source": [
    "plt.plot(total_loss)\n",
    "plt.plot(total_val_loss)\n",
    "plt.legend(['training', 'validation'])\n",
    "plt.title('Loss')\n",
    "plt.xlabel('Epochs')"
   ]
  },
  {
   "cell_type": "markdown",
   "metadata": {
    "colab_type": "text",
    "id": "8OjQkxQ5mtL8"
   },
   "source": [
    "### Accuracy history"
   ]
  },
  {
   "cell_type": "code",
   "execution_count": 18,
   "metadata": {
    "colab": {
     "base_uri": "https://localhost:8080/",
     "height": 312
    },
    "colab_type": "code",
    "executionInfo": {
     "elapsed": 900,
     "status": "ok",
     "timestamp": 1588545316300,
     "user": {
      "displayName": "Pepe T.",
      "photoUrl": "",
      "userId": "15713094074826890653"
     },
     "user_tz": 0
    },
    "id": "XJ8qoWbFmtL8",
    "outputId": "867eec18-ed98-4b25-bfa6-2587f276999f"
   },
   "outputs": [
    {
     "data": {
      "text/plain": [
       "Text(0.5, 0, 'Epochs')"
      ]
     },
     "execution_count": 18,
     "metadata": {
      "tags": []
     },
     "output_type": "execute_result"
    },
    {
     "data": {
      "image/png": "[encoded data removed]",
      "text/plain": [
       "<Figure size 432x288 with 1 Axes>"
      ]
     },
     "metadata": {
      "needs_background": "light",
      "tags": []
     },
     "output_type": "display_data"
    }
   ],
   "source": [
    "plt.plot(total_acc)\n",
    "plt.plot(total_val_acc)\n",
    "plt.legend(['training', 'validation'])\n",
    "plt.title('Accuracy')\n",
    "plt.xlabel('Epochs')"
   ]
  },
  {
   "cell_type": "markdown",
   "metadata": {},
   "source": [
    "### Test Accuracy"
   ]
  },
  {
   "cell_type": "code",
   "execution_count": 36,
   "metadata": {},
   "outputs": [
    {
     "name": "stdout",
     "output_type": "stream",
     "text": [
      "INFO:tensorflow:Restoring parameters from ./save_model/model.chkpt\n",
      "Test Accuracy = 0.980\n"
     ]
    }
   ],
   "source": [
    "with tf.Session() as sess:\n",
    "    saver.restore(sess, './save_model/model.chkpt')\n",
    "\n",
    "    _, test_accuracy = evaluate(X_test, y_test)\n",
    "    print(\"Test Accuracy = {:.3f}\".format(test_accuracy))"
   ]
  },
  {
   "cell_type": "markdown",
   "metadata": {
    "colab_type": "text",
    "id": "eoRQSkg6mtL8"
   },
   "source": [
    "---\n",
    "\n",
    "## Step 3: Test a Model on New Images\n",
    "\n",
    "To give yourself more insight into how your model is working, download at least five pictures of German traffic signs from the web and use your model to predict the traffic sign type.\n",
    "\n",
    "You may find `signnames.csv` useful as it contains mappings from the class id (integer) to the actual sign name."
   ]
  },
  {
   "cell_type": "markdown",
   "metadata": {
    "colab_type": "text",
    "id": "H5py4CRMmtL8"
   },
   "source": [
    "### Load and Output the Images"
   ]
  },
  {
   "cell_type": "code",
   "execution_count": 24,
   "metadata": {
    "colab": {},
    "colab_type": "code",
    "id": "NqrzjAm7mtL8"
   },
   "outputs": [],
   "source": [
    "import os\n",
    "from PIL import Image\n",
    "\n",
    "# New images path\n",
    "path = '../data/new_imgs/'\n",
    "\n",
    "new_imgs = []\n",
    "\n",
    "for i in range(1,6):\n",
    "    img = np.array(Image.open(path+'img'+str(i)+'.jpg'))\n",
    "    img = cv2.resize(img, (32, 32))\n",
    "    new_imgs.append(img)"
   ]
  },
  {
   "cell_type": "code",
   "execution_count": 25,
   "metadata": {
    "colab": {
     "base_uri": "https://localhost:8080/",
     "height": 250
    },
    "colab_type": "code",
    "executionInfo": {
     "elapsed": 1200,
     "status": "ok",
     "timestamp": 1588545602700,
     "user": {
      "displayName": "Pepe T.",
      "photoUrl": "",
      "userId": "15713094074826890653"
     },
     "user_tz": 0
    },
    "id": "JN9o4Sa4mtL8",
    "outputId": "c3144721-5300-4e1b-9d8b-78851caaa86d"
   },
   "outputs": [
    {
     "data": {
      "image/png": "[encoded data removed]",
      "text/plain": [
       "<matplotlib.figure.Figure at 0x7fbee55e4438>"
      ]
     },
     "metadata": {
      "needs_background": "light"
     },
     "output_type": "display_data"
    }
   ],
   "source": [
    "# Images visualization\n",
    "f, (ax1, ax2, ax3, ax4, ax5) = plt.subplots(1, 5, figsize=(20,20))\n",
    "f.tight_layout()\n",
    "ax1.imshow(new_imgs[0])\n",
    "ax1.set_title('Image 1', fontsize=20)\n",
    "ax1.axis(\"off\")\n",
    "ax2.imshow(new_imgs[1])\n",
    "ax2.set_title('Image 2', fontsize=20)\n",
    "ax2.axis(\"off\")\n",
    "ax3.imshow(new_imgs[2])\n",
    "ax3.set_title('Image 3', fontsize=20)\n",
    "ax3.axis(\"off\")\n",
    "ax4.imshow(new_imgs[3])\n",
    "ax4.set_title('Image 4', fontsize=20)\n",
    "ax4.axis(\"off\")\n",
    "ax5.imshow(new_imgs[4])\n",
    "ax5.set_title('Image 5', fontsize=20)\n",
    "ax5.axis(\"off\")\n",
    "plt.subplots_adjust(left=0., right=1, top=0.9, bottom=0.)"
   ]
  },
  {
   "cell_type": "markdown",
   "metadata": {
    "colab_type": "text",
    "id": "hMg4UHBWmtL8"
   },
   "source": [
    "### Preprocess the images"
   ]
  },
  {
   "cell_type": "code",
   "execution_count": 26,
   "metadata": {
    "colab": {},
    "colab_type": "code",
    "id": "RLb9n4FJmtL8"
   },
   "outputs": [],
   "source": [
    "pre_imgs = np.array(list(map(preprocess, new_imgs))).reshape(len(new_imgs), 32, 32, 1)\n",
    "pre_imgs = (pre_imgs - 128.0)/128.0"
   ]
  },
  {
   "cell_type": "markdown",
   "metadata": {
    "colab_type": "text",
    "id": "Ez_QbwPumtL8"
   },
   "source": [
    "### Predict the Sign Type for Each Image"
   ]
  },
  {
   "cell_type": "code",
   "execution_count": 27,
   "metadata": {
    "colab": {
     "base_uri": "https://localhost:8080/",
     "height": 34
    },
    "colab_type": "code",
    "executionInfo": {
     "elapsed": 1100,
     "status": "ok",
     "timestamp": 1588545632100,
     "user": {
      "displayName": "Pepe T.",
      "photoUrl": "",
      "userId": "15713094074826890653"
     },
     "user_tz": 0
    },
    "id": "Kt75LCEKmtL8",
    "outputId": "5040203c-4e9b-4e46-d75d-a3cf63ca4673"
   },
   "outputs": [
    {
     "name": "stdout",
     "output_type": "stream",
     "text": [
      "INFO:tensorflow:Restoring parameters from ./save_model/model.chkpt\n"
     ]
    }
   ],
   "source": [
    "# Output prediction\n",
    "prediction = tf.argmax(logits, 1)\n",
    "\n",
    "with tf.Session() as sess:\n",
    "    saver.restore(sess, './save_model/model.chkpt')\n",
    "    pred_classes = sess.run(prediction, feed_dict={x: pre_imgs, keep_prob: 1.0})"
   ]
  },
  {
   "cell_type": "code",
   "execution_count": 28,
   "metadata": {
    "colab": {
     "base_uri": "https://localhost:8080/",
     "height": 283
    },
    "colab_type": "code",
    "executionInfo": {
     "elapsed": 700,
     "status": "ok",
     "timestamp": 1588545680100,
     "user": {
      "displayName": "Pepe T.",
      "photoUrl": "",
      "userId": "15713094074826890653"
     },
     "user_tz": 0
    },
    "id": "yfLvtpM8mtL8",
    "outputId": "c61e4b5c-25d3-4a36-e30e-edff64fe868d"
   },
   "outputs": [
    {
     "data": {
      "image/png": "[encoded data removed]",
      "text/plain": [
       "<matplotlib.figure.Figure at 0x7fbee544c780>"
      ]
     },
     "metadata": {
      "needs_background": "light"
     },
     "output_type": "display_data"
    }
   ],
   "source": [
    "# Show predictions for each image\n",
    "f, (ax1, ax2, ax3, ax4, ax5) = plt.subplots(1, 5, figsize=(20,20))\n",
    "f.tight_layout()\n",
    "ax1.imshow(new_imgs[0])\n",
    "ax1.set_title(str(pred_classes[0])+\" \"+classes['SignName'][pred_classes[0]], fontsize=20)\n",
    "ax1.axis(\"off\")\n",
    "ax2.imshow(new_imgs[1])\n",
    "ax2.set_title(str(pred_classes[1])+\" \"+classes['SignName'][pred_classes[1]], fontsize=20)\n",
    "ax2.axis(\"off\")\n",
    "ax3.imshow(new_imgs[2])\n",
    "ax3.set_title(str(pred_classes[2])+\" \"+classes['SignName'][pred_classes[2]], fontsize=20)\n",
    "ax3.axis(\"off\")\n",
    "ax4.imshow(new_imgs[3])\n",
    "ax4.set_title(str(pred_classes[3])+\" \"+classes['SignName'][pred_classes[3]], fontsize=20)\n",
    "ax4.axis(\"off\")\n",
    "ax5.imshow(new_imgs[4])\n",
    "ax5.set_title(str(pred_classes[4])+\" \"+classes['SignName'][pred_classes[4]], fontsize=20)\n",
    "ax5.axis(\"off\")\n",
    "plt.subplots_adjust(left=0., right=1, top=0.9, bottom=0.)"
   ]
  },
  {
   "cell_type": "markdown",
   "metadata": {
    "colab_type": "text",
    "id": "QGTWx_qWmtL8"
   },
   "source": [
    "### Analyze Performance"
   ]
  },
  {
   "cell_type": "code",
   "execution_count": 29,
   "metadata": {
    "colab": {},
    "colab_type": "code",
    "id": "pZq2WVXFmtL8"
   },
   "outputs": [
    {
     "name": "stdout",
     "output_type": "stream",
     "text": [
      "INFO:tensorflow:Restoring parameters from ./save_model/model.chkpt\n",
      "Accuracy of 5 images = 1.000\n"
     ]
    }
   ],
   "source": [
    "### Calculate the accuracy for these 5 new images.\n",
    "\n",
    "# Groundtruth labels\n",
    "y5 = [18, 29, 14, 15, 38]\n",
    "\n",
    "with tf.Session() as sess:\n",
    "    saver.restore(sess, './save_model/model.chkpt')\n",
    "\n",
    "    _, new5_accuracy = evaluate(pre_imgs, y5)\n",
    "    print(\"Accuracy of 5 images = {:.3f}\".format(new5_accuracy))"
   ]
  },
  {
   "cell_type": "markdown",
   "metadata": {
    "colab_type": "text",
    "id": "F1n9lh5WmtL8"
   },
   "source": [
    "### Output Top 5 Softmax Probabilities For Each Image Found on the Web"
   ]
  },
  {
   "cell_type": "markdown",
   "metadata": {
    "colab_type": "text",
    "id": "z2LT-7UZmtL8"
   },
   "source": [
    "For each of the new images, print out the model's softmax probabilities to show the **certainty** of the model's predictions (limit the output to the top 5 probabilities for each image). [`tf.nn.top_k`](https://www.tensorflow.org/versions/r0.12/api_docs/python/nn.html#top_k) could prove helpful here. \n",
    "\n",
    "The example below demonstrates how tf.nn.top_k can be used to find the top k predictions for each image.\n",
    "\n",
    "`tf.nn.top_k` will return the values and indices (class ids) of the top k predictions. So if k=3, for each sign, it'll return the 3 largest probabilities (out of a possible 43) and the correspoding class ids.\n",
    "\n",
    "Take this numpy array as an example. The values in the array represent predictions. The array contains softmax probabilities for five candidate images with six possible classes. `tf.nn.top_k` is used to choose the three classes with the highest probability:\n",
    "\n",
    "```\n",
    "# (5, 6) array\n",
    "a = np.array([[ 0.24879643,  0.07032244,  0.12641572,  0.34763842,  0.07893497,\n",
    "         0.12789202],\n",
    "       [ 0.28086119,  0.27569815,  0.08594638,  0.0178669 ,  0.18063401,\n",
    "         0.15899337],\n",
    "       [ 0.26076848,  0.23664738,  0.08020603,  0.07001922,  0.1134371 ,\n",
    "         0.23892179],\n",
    "       [ 0.11943333,  0.29198961,  0.02605103,  0.26234032,  0.1351348 ,\n",
    "         0.16505091],\n",
    "       [ 0.09561176,  0.34396535,  0.0643941 ,  0.16240774,  0.24206137,\n",
    "         0.09155967]])\n",
    "```\n",
    "\n",
    "Running it through `sess.run(tf.nn.top_k(tf.constant(a), k=3))` produces:\n",
    "\n",
    "```\n",
    "TopKV2(values=array([[ 0.34763842,  0.24879643,  0.12789202],\n",
    "       [ 0.28086119,  0.27569815,  0.18063401],\n",
    "       [ 0.26076848,  0.23892179,  0.23664738],\n",
    "       [ 0.29198961,  0.26234032,  0.16505091],\n",
    "       [ 0.34396535,  0.24206137,  0.16240774]]), indices=array([[3, 0, 5],\n",
    "       [0, 1, 4],\n",
    "       [0, 5, 1],\n",
    "       [1, 3, 5],\n",
    "       [1, 4, 3]], dtype=int32))\n",
    "```\n",
    "\n",
    "Looking just at the first row we get `[ 0.34763842,  0.24879643,  0.12789202]`, you can confirm these are the 3 largest probabilities in `a`. You'll also notice `[3, 0, 5]` are the corresponding indices."
   ]
  },
  {
   "cell_type": "code",
   "execution_count": 30,
   "metadata": {
    "colab": {
     "base_uri": "https://localhost:8080/",
     "height": 34
    },
    "colab_type": "code",
    "executionInfo": {
     "elapsed": 1000,
     "status": "ok",
     "timestamp": 1588545698200,
     "user": {
      "displayName": "Pepe T.",
      "photoUrl": "",
      "userId": "15713094074826890653"
     },
     "user_tz": 0
    },
    "id": "exyWdMdOmtL8",
    "outputId": "bb814e60-c032-44ce-b141-1dda84bd903f"
   },
   "outputs": [
    {
     "name": "stdout",
     "output_type": "stream",
     "text": [
      "INFO:tensorflow:Restoring parameters from ./save_model/model.chkpt\n"
     ]
    }
   ],
   "source": [
    "with tf.Session() as sess:\n",
    "    saver.restore(sess,'./save_model/model.chkpt')\n",
    "    \n",
    "    # Softmax output\n",
    "    softmax = sess.run(tf.nn.softmax(logits), feed_dict={x: pre_imgs, keep_prob: 1.0})\n",
    "    \n",
    "    # Top 5 probabilities\n",
    "    top5 = sess.run(tf.nn.top_k(tf.constant(softmax), k=5))"
   ]
  },
  {
   "cell_type": "code",
   "execution_count": 31,
   "metadata": {},
   "outputs": [],
   "source": [
    "# Function for plotting the probabilities\n",
    "def top5_plotting(n):\n",
    "    \"\"\"\n",
    "    n: image number\n",
    "    Output: image with bar plotting\n",
    "    \"\"\"\n",
    "    f, (ax1, ax2) = plt.subplots(1, 2, figsize=(13, 3.5), gridspec_kw={'width_ratios': [1, 3]})\n",
    "    f.tight_layout()\n",
    "    ax1.imshow(new_imgs[n])\n",
    "    ax1.set_title(\"Image \"+str(n+1), fontsize=20)\n",
    "    ax1.axis(\"off\")\n",
    "    ax2.bar(range(1,6), top5[0][n], tick_label=classes['SignName'][top5[1][n]])\n",
    "    ax2.set_title(\"Top 5 Softmax Probabilities\", fontsize=20)\n",
    "    plt.subplots_adjust(left=0., right=1, top=0.9, bottom=0.)"
   ]
  },
  {
   "cell_type": "code",
   "execution_count": 32,
   "metadata": {},
   "outputs": [
    {
     "data": {
      "image/png": "[encoded data removed]",
      "text/plain": [
       "<matplotlib.figure.Figure at 0x7fbee534f320>"
      ]
     },
     "metadata": {
      "needs_background": "light"
     },
     "output_type": "display_data"
    }
   ],
   "source": [
    "top5_plotting(0)"
   ]
  },
  {
   "cell_type": "code",
   "execution_count": 33,
   "metadata": {},
   "outputs": [
    {
     "data": {
      "image/png": "[encoded data removed]",
      "text/plain": [
       "<matplotlib.figure.Figure at 0x7fbee51e4e10>"
      ]
     },
     "metadata": {
      "needs_background": "light"
     },
     "output_type": "display_data"
    }
   ],
   "source": [
    "top5_plotting(1)"
   ]
  },
  {
   "cell_type": "code",
   "execution_count": 34,
   "metadata": {
    "colab": {
     "base_uri": "https://localhost:8080/",
     "height": 353
    },
    "colab_type": "code",
    "executionInfo": {
     "elapsed": 900,
     "status": "ok",
     "timestamp": 1588545716100,
     "user": {
      "displayName": "Pepe T.",
      "photoUrl": "",
      "userId": "15713094074826890653"
     },
     "user_tz": 0
    },
    "id": "DnY32prTmtL8",
    "outputId": "b25df0df-a4b3-4816-d8e0-6164553905d1"
   },
   "outputs": [
    {
     "data": {
      "image/png": "[encoded data removed]",
      "text/plain": [
       "<matplotlib.figure.Figure at 0x7fbee516b748>"
      ]
     },
     "metadata": {
      "needs_background": "light"
     },
     "output_type": "display_data"
    }
   ],
   "source": [
    "top5_plotting(2)"
   ]
  },
  {
   "cell_type": "code",
   "execution_count": 35,
   "metadata": {
    "colab": {},
    "colab_type": "code",
    "id": "_nPRpES_mtL8"
   },
   "outputs": [
    {
     "data": {
      "image/png": "[encoded data removed]",
      "text/plain": [
       "<matplotlib.figure.Figure at 0x7fbee2b9edd8>"
      ]
     },
     "metadata": {
      "needs_background": "light"
     },
     "output_type": "display_data"
    }
   ],
   "source": [
    "top5_plotting(3)"
   ]
  },
  {
   "cell_type": "code",
   "execution_count": 36,
   "metadata": {},
   "outputs": [
    {
     "data": {
      "image/png": "[encoded data removed]",
      "text/plain": [
       "<matplotlib.figure.Figure at 0x7fbee2b4ca58>"
      ]
     },
     "metadata": {
      "needs_background": "light"
     },
     "output_type": "display_data"
    }
   ],
   "source": [
    "top5_plotting(4)"
   ]
  },
  {
   "cell_type": "markdown",
   "metadata": {
    "colab_type": "text",
    "id": "kj55wke1mtL8"
   },
   "source": [
    "### Project Writeup\n",
    "\n",
    "Once you have completed the code implementation, document your results in a project writeup using this [template](https://github.com/udacity/CarND-Traffic-Sign-Classifier-Project/blob/master/writeup_template.md) as a guide. The writeup can be in a markdown or pdf file. "
   ]
  },
  {
   "cell_type": "markdown",
   "metadata": {
    "colab_type": "text",
    "id": "fKihBfpimtL8"
   },
   "source": [
    "> **Note**: Once you have completed all of the code implementations and successfully answered each question above, you may finalize your work by exporting the iPython Notebook as an HTML document. You can do this by using the menu above and navigating to  \\n\",\n",
    "    \"**File -> Download as -> HTML (.html)**. Include the finished document along with this notebook as your submission."
   ]
  },
  {
   "cell_type": "markdown",
   "metadata": {
    "colab_type": "text",
    "id": "WcadyzOOmtL8"
   },
   "source": [
    "---\n",
    "\n",
    "## Step 4 (Optional): Visualize the Neural Network's State with Test Images\n",
    "\n",
    " This Section is not required to complete but acts as an additional excersise for understaning the output of a neural network's weights. While neural networks can be a great learning device they are often referred to as a black box. We can understand what the weights of a neural network look like better by plotting their feature maps. After successfully training your neural network you can see what it's feature maps look like by plotting the output of the network's weight layers in response to a test stimuli image. From these plotted feature maps, it's possible to see what characteristics of an image the network finds interesting. For a sign, maybe the inner network feature maps react with high activation to the sign's boundary outline or to the contrast in the sign's painted symbol.\n",
    "\n",
    " Provided for you below is the function code that allows you to get the visualization output of any tensorflow weight layer you want. The inputs to the function should be a stimuli image, one used during training or a new one you provided, and then the tensorflow variable name that represents the layer's state during the training process, for instance if you wanted to see what the [LeNet lab's](https://classroom.udacity.com/nanodegrees/nd013/parts/fbf77062-5703-404e-b60c-95b78b2f3f9e/modules/6df7ae49-c61c-4bb2-a23e-6527e69209ec/lessons/601ae704-1035-4287-8b11-e2c2716217ad/concepts/d4aca031-508f-4e0b-b493-e7b706120f81) feature maps looked like for it's second convolutional layer you could enter conv2 as the tf_activation variable.\n",
    "\n",
    "For an example of what feature map outputs look like, check out NVIDIA's results in their paper [End-to-End Deep Learning for Self-Driving Cars](https://devblogs.nvidia.com/parallelforall/deep-learning-self-driving-cars/) in the section Visualization of internal CNN State. NVIDIA was able to show that their network's inner weights had high activations to road boundary lines by comparing feature maps from an image with a clear path to one without. Try experimenting with a similar test to show that your trained network's weights are looking for interesting features, whether it's looking at differences in feature maps from images with or without a sign, or even what feature maps look like in a trained network vs a completely untrained one on the same sign image.\n",
    "\n",
    "<figure>\n",
    " <img src=\"visualize_cnn.png\" width=\"380\" alt=\"Combined Image\" />\n",
    " <figcaption>\n",
    " <p></p> \n",
    " <p style=\"text-align: center;\"> Your output should look something like this (above)</p> \n",
    " </figcaption>\n",
    "</figure>\n",
    " <p></p> \n"
   ]
  },
  {
   "cell_type": "code",
   "execution_count": 33,
   "metadata": {
    "colab": {},
    "colab_type": "code",
    "id": "TIj7lsPKmtL8"
   },
   "outputs": [],
   "source": [
    "### Visualize your network's feature maps here.\n",
    "### Feel free to use as many code cells as needed.\n",
    "\n",
    "# image_input: the test image being fed into the network to produce the feature maps\n",
    "# tf_activation: should be a tf variable name used during your training procedure that represents the calculated state of a specific weight layer\n",
    "# activation_min/max: can be used to view the activation contrast in more detail, by default matplot sets min and max to the actual min and max values of the output\n",
    "# plt_num: used to plot out multiple different weight feature map sets on the same block, just extend the plt number for each new feature map entry\n",
    "\n",
    "def outputFeatureMap(image_input, tf_activation, activation_min=-1, activation_max=-1 ,plt_num=1):\n",
    "    # Here make sure to preprocess your image_input in a way your network expects\n",
    "    # with size, normalization, ect if needed\n",
    "    # image_input =\n",
    "    # Note: x should be the same name as your network's tensorflow data placeholder variable\n",
    "    # If you get an error tf_activation is not defined it may be having trouble accessing the variable from inside a function\n",
    "    activation = tf_activation.eval(session=sess,feed_dict={x : image_input})\n",
    "    featuremaps = activation.shape[3]\n",
    "    plt.figure(plt_num, figsize=(15,15))\n",
    "    for featuremap in range(featuremaps):\n",
    "        plt.subplot(6,8, featuremap+1) # sets the number of feature maps to show on each row and column\n",
    "        plt.title('FeatureMap ' + str(featuremap)) # displays the feature map number\n",
    "        if activation_min != -1 & activation_max != -1:\n",
    "            plt.imshow(activation[0,:,:, featuremap], interpolation=\"nearest\", vmin =activation_min, vmax=activation_max, cmap=\"gray\")\n",
    "        elif activation_max != -1:\n",
    "            plt.imshow(activation[0,:,:, featuremap], interpolation=\"nearest\", vmax=activation_max, cmap=\"gray\")\n",
    "        elif activation_min !=-1:\n",
    "            plt.imshow(activation[0,:,:, featuremap], interpolation=\"nearest\", vmin=activation_min, cmap=\"gray\")\n",
    "        else:\n",
    "            plt.imshow(activation[0,:,:, featuremap], interpolation=\"nearest\", cmap=\"gray\")"
   ]
  }
 ],
 "metadata": {
  "accelerator": "GPU",
  "anaconda-cloud": {},
  "colab": {
   "collapsed_sections": [
    "6F3rSfdkmtI0",
    "KpzJdBmqmtI0",
    "3jqBC4L3mtI0",
    "XmCMHpCZmtI0",
    "kj55wke1mtL8"
   ],
   "name": "Traffic_Sign_Classifier.ipynb",
   "provenance": []
  },
  "kernelspec": {
   "display_name": "Python 3",
   "language": "python",
   "name": "python3"
  },
  "language_info": {
   "codemirror_mode": {
    "name": "ipython",
    "version": 3
   },
   "file_extension": ".py",
   "mimetype": "text/x-python",
   "name": "python",
   "nbconvert_exporter": "python",
   "pygments_lexer": "ipython3",
   "version": "3.6.9"
  }
 },
 "nbformat": 4,
 "nbformat_minor": 1
}
